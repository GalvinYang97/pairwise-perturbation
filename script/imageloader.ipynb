{
 "cells": [
  {
   "cell_type": "code",
   "execution_count": 4,
   "metadata": {},
   "outputs": [],
   "source": [
    "from PIL import Image\n",
    "import os\n",
    "# import cv2\n",
    "import numpy as np"
   ]
  },
  {
   "cell_type": "code",
   "execution_count": 5,
   "metadata": {},
   "outputs": [],
   "source": [
    "def load_images_from_folder(folder):\n",
    "    pix_val = []\n",
    "    for filename in os.listdir(folder):\n",
    "        print(filename)\n",
    "        img = Image.open(folder+filename)        \n",
    "        if img is not None:\n",
    "            pix = list(img.getdata())\n",
    "            pix_val.append(pix)\n",
    "        img.close()\n",
    "    return pix_val"
   ]
  },
  {
   "cell_type": "code",
   "execution_count": 6,
   "metadata": {},
   "outputs": [],
   "source": [
    "# im = Image.open(r\"/Users/linjian/Documents/coil-100/obj1__0.png\")\n",
    "folder = \"/Users/linjian/Documents/coil-100/\"\n",
    "pix_val = load_images_from_folder(folder)"
   ]
  },
  {
   "cell_type": "code",
   "execution_count": null,
   "metadata": {},
   "outputs": [],
   "source": [
    "# print(pix_val[7199])\n",
    "pix = np.asarray(pix_val)\n",
    "print(pix[0])"
   ]
  },
  {
   "cell_type": "code",
   "execution_count": null,
   "metadata": {},
   "outputs": [],
   "source": [
    "pix_out = np.reshape(pix,(7200,128,128,3))"
   ]
  },
  {
   "cell_type": "code",
   "execution_count": null,
   "metadata": {},
   "outputs": [],
   "source": [
    "# for a in range(10):\n",
    "#     file = \"out\"+str(a)+\".txt\"\n",
    "#     with open(file, \"w\") as text_file:\n",
    "#     #     text_file.write(\"i    j    k    l    value \\n\")\n",
    "#         for i in range(720):\n",
    "#             for j in range(128):\n",
    "#                 for k in range(128):\n",
    "#                     for l in range(3):\n",
    "#                         text_file.write(\"%d    %d    %d    %d    %d \\n\" % (720*a+i,j,k,l,pix_out[i][j][k][l]))"
   ]
  },
  {
   "cell_type": "code",
   "execution_count": null,
   "metadata": {},
   "outputs": [],
   "source": []
  },
  {
   "cell_type": "code",
   "execution_count": null,
   "metadata": {},
   "outputs": [],
   "source": []
  },
  {
   "cell_type": "code",
   "execution_count": null,
   "metadata": {},
   "outputs": [],
   "source": []
  }
 ],
 "metadata": {
  "kernelspec": {
   "display_name": "Python 3",
   "language": "python",
   "name": "python3"
  },
  "language_info": {
   "codemirror_mode": {
    "name": "ipython",
    "version": 3
   },
   "file_extension": ".py",
   "mimetype": "text/x-python",
   "name": "python",
   "nbconvert_exporter": "python",
   "pygments_lexer": "ipython3",
   "version": "3.6.5"
  }
 },
 "nbformat": 4,
 "nbformat_minor": 2
}
